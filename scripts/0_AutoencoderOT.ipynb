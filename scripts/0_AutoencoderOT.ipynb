{
 "cells": [
  {
   "cell_type": "markdown",
   "metadata": {},
   "source": [
    "# Autoencoder\n",
    "*Written by Viviane Clay*\n",
    "\n",
    "Autoencoder trained on observations from the Obstacle Tower environment.\n",
    "## Setup\n",
    "### Import Dependencies"
   ]
  },
  {
   "cell_type": "code",
   "execution_count": null,
   "metadata": {
    "ExecuteTime": {
     "end_time": "2021-01-08T13:13:14.015973Z",
     "start_time": "2021-01-08T13:12:57.217226Z"
    }
   },
   "outputs": [],
   "source": [
    "import os\n",
    "import numpy as np;\n",
    "import pandas as pd\n",
    "import matplotlib.pyplot as plt\n",
    "from scipy import misc\n",
    "from keras.models import Sequential,Model\n",
    "from keras.layers.convolutional import Conv3D, Conv2D, UpSampling2D,Conv2DTranspose\n",
    "from keras.layers.convolutional_recurrent import ConvLSTM2D\n",
    "#from keras.layers.normalization import BatchNormalization\n",
    "from keras.layers import Dense,MaxPooling2D,TimeDistributed,Input,concatenate,Flatten,Reshape,LSTM,Lambda,BatchNormalization\n",
    "import tensorflow as tf\n",
    "import tensorflow.contrib.layers as c_layers\n",
    "from keras.preprocessing.image import ImageDataGenerator\n",
    "import seaborn as sns"
   ]
  },
  {
   "cell_type": "code",
   "execution_count": null,
   "metadata": {
    "ExecuteTime": {
     "end_time": "2021-01-08T13:13:14.079816Z",
     "start_time": "2021-01-08T13:13:14.065839Z"
    }
   },
   "outputs": [],
   "source": [
    "# adapt path as necessary.\n",
    "path = './Results/TowerTraining/Recordings/Standard/3999_16.100/autoencoder/'"
   ]
  },
  {
   "cell_type": "markdown",
   "metadata": {},
   "source": [
    "### Define Autoencoder Network"
   ]
  },
  {
   "cell_type": "code",
   "execution_count": null,
   "metadata": {
    "ExecuteTime": {
     "end_time": "2021-01-08T13:13:51.605715Z",
     "start_time": "2021-01-08T13:13:51.252658Z"
    }
   },
   "outputs": [],
   "source": [
    "from keras import backend as K\n",
    "K.clear_session()\n",
    "\n",
    "def swish(input_activation):\n",
    "    \"\"\"Swish activation function. For more info: https://arxiv.org/abs/1710.05941\"\"\"\n",
    "    return tf.multiply(input_activation, tf.nn.sigmoid(input_activation))\n",
    "\n",
    "inImg = Input(batch_shape=(None,168, 168, 3),name=\"input_1\")\n",
    "conv = Conv2D(filters=16, kernel_size=[8, 8], strides=[4, 4],activation=tf.nn.elu, name=\"conv_1\")(inImg)\n",
    "print(conv)\n",
    "conv = Conv2D(filters=32, kernel_size=[4, 4], strides=[2, 2],activation=tf.nn.elu, name=\"conv_2\")(conv)\n",
    "print(conv)\n",
    "flat = Reshape((19*19*32,))(conv)#Flatten()(conv)\n",
    "print(flat)\n",
    "dens = Dense(256,activation=swish,kernel_initializer=c_layers.variance_scaling_initializer(1.0), name=\"dens_1\")(flat)\n",
    "print(dens)\n",
    "enc = Dense(256,activation=swish,kernel_initializer=c_layers.variance_scaling_initializer(1.0), name=\"dens_2\")(dens)\n",
    "print(enc)\n",
    "de_dens = Dense(20*20*32,activation=swish,kernel_initializer=c_layers.variance_scaling_initializer(1.0), name=\"dens_3\")(enc)\n",
    "print(de_dens)\n",
    "shaped = Reshape((20, 20, 32))(de_dens)\n",
    "print(shaped)\n",
    "de_conv = Conv2DTranspose(filters=16, kernel_size=[4, 4], strides=[2, 2],activation=tf.nn.elu, name=\"deconv_1\")(shaped)\n",
    "print(de_conv)\n",
    "prediction = Conv2DTranspose(filters=3, kernel_size=[8, 8], strides=[4, 4],padding='same',activation=tf.nn.elu, name=\"deconv_3\")(de_conv)\n",
    "print(prediction)\n",
    "model = Model(inputs=inImg, outputs=prediction)\n",
    "\n",
    "optimizer = tf.train.AdamOptimizer(0.0001)\n",
    "model.compile(optimizer=optimizer,loss='mean_squared_error',metrics=['accuracy','mse'])"
   ]
  },
  {
   "cell_type": "code",
   "execution_count": null,
   "metadata": {
    "ExecuteTime": {
     "end_time": "2021-01-08T13:13:52.702783Z",
     "start_time": "2021-01-08T13:13:52.688820Z"
    },
    "scrolled": false
   },
   "outputs": [],
   "source": [
    "model.summary()"
   ]
  },
  {
   "cell_type": "markdown",
   "metadata": {},
   "source": [
    "### Define Data Loading & Augmentation"
   ]
  },
  {
   "cell_type": "code",
   "execution_count": null,
   "metadata": {
    "ExecuteTime": {
     "end_time": "2021-01-08T13:12:32.453261Z",
     "start_time": "2021-01-08T13:12:32.406387Z"
    }
   },
   "outputs": [],
   "source": [
    "train_datagen = ImageDataGenerator(\n",
    "        rescale=1./255,\n",
    "        shear_range=0.2,\n",
    "        zoom_range=0.2,\n",
    "        horizontal_flip=True)\n",
    "\n",
    "\n",
    "train_generator = train_datagen.flow_from_directory(\n",
    "    directory=path+'Data/ObstacleTower/',\n",
    "    target_size=(168, 168),\n",
    "    color_mode=\"rgb\",\n",
    "    batch_size=256,\n",
    "    class_mode=\"input\",\n",
    "    shuffle=True,\n",
    "    seed=42\n",
    ")"
   ]
  },
  {
   "cell_type": "markdown",
   "metadata": {},
   "source": [
    "## Train Model"
   ]
  },
  {
   "cell_type": "code",
   "execution_count": null,
   "metadata": {
    "ExecuteTime": {
     "end_time": "2020-07-03T04:03:27.730182Z",
     "start_time": "2020-07-02T10:20:07.698786Z"
    }
   },
   "outputs": [],
   "source": [
    "info = model.fit_generator(train_generator,epochs=50)"
   ]
  },
  {
   "cell_type": "markdown",
   "metadata": {},
   "source": [
    "### Plot Training Progress"
   ]
  },
  {
   "cell_type": "code",
   "execution_count": null,
   "metadata": {},
   "outputs": [],
   "source": [
    "plt.plot(info.history['loss'])\n",
    "\n",
    "plt.title('model loss')\n",
    "plt.ylabel('loss')\n",
    "plt.xlabel('epoch')\n",
    "\n",
    "plt.show()"
   ]
  },
  {
   "cell_type": "markdown",
   "metadata": {},
   "source": [
    "## Save Model"
   ]
  },
  {
   "cell_type": "code",
   "execution_count": null,
   "metadata": {
    "ExecuteTime": {
     "end_time": "2020-07-03T07:42:27.765995Z",
     "start_time": "2020-07-03T07:42:27.543877Z"
    }
   },
   "outputs": [],
   "source": [
    "model.save_weights(path+'autoencoder/aemodelAdam50E.h5')"
   ]
  },
  {
   "cell_type": "markdown",
   "metadata": {},
   "source": [
    "## Load Trained Model"
   ]
  },
  {
   "cell_type": "code",
   "execution_count": null,
   "metadata": {
    "ExecuteTime": {
     "end_time": "2021-01-08T13:14:43.679468Z",
     "start_time": "2021-01-08T13:14:43.575748Z"
    }
   },
   "outputs": [],
   "source": [
    "model.load_weights('./Results/TowerTraining/Recordings/Standard/3999_16.100/autoencoder/aemodelAdam50E.h5')"
   ]
  },
  {
   "cell_type": "markdown",
   "metadata": {},
   "source": [
    "### Load Test Run & Process"
   ]
  },
  {
   "cell_type": "code",
   "execution_count": null,
   "metadata": {
    "ExecuteTime": {
     "end_time": "2021-01-08T13:15:52.200300Z",
     "start_time": "2021-01-08T13:15:33.318772Z"
    }
   },
   "outputs": [],
   "source": [
    "folder_name = '3999_16.100'\n",
    "path = './Results/TowerTraining/Recordings/Standard/'+folder_name+'/'\n",
    "\n",
    "obs = np.load(path+'visobs.npy', mmap_mode='r')\n",
    "\n",
    "out = model.predict(obs)"
   ]
  },
  {
   "cell_type": "markdown",
   "metadata": {},
   "source": [
    "#### Get Hidden Layer Activations"
   ]
  },
  {
   "cell_type": "code",
   "execution_count": null,
   "metadata": {
    "ExecuteTime": {
     "end_time": "2021-01-08T13:16:54.849261Z",
     "start_time": "2021-01-08T13:16:40.711399Z"
    }
   },
   "outputs": [],
   "source": [
    "intermediate_layer_model = Model(inputs=model.input,\n",
    "                                 outputs=[model.get_layer('dens_2').output,model.get_layer('deconv_3').output])\n",
    "intermediate_output = intermediate_layer_model.predict(obs)"
   ]
  },
  {
   "cell_type": "markdown",
   "metadata": {},
   "source": [
    "#### Save"
   ]
  },
  {
   "cell_type": "code",
   "execution_count": null,
   "metadata": {
    "ExecuteTime": {
     "end_time": "2021-01-08T13:16:02.898403Z",
     "start_time": "2021-01-08T13:16:02.881448Z"
    }
   },
   "outputs": [],
   "source": [
    "np.save(path+'AEOutAdam.npy',out)\n",
    "np.save(path+'AEActAdam.npy',intermediate_output[0])"
   ]
  },
  {
   "cell_type": "markdown",
   "metadata": {},
   "source": [
    "### Visualize Image Reconstruction"
   ]
  },
  {
   "cell_type": "code",
   "execution_count": null,
   "metadata": {
    "ExecuteTime": {
     "end_time": "2021-01-08T13:16:07.862451Z",
     "start_time": "2021-01-08T13:16:07.609635Z"
    }
   },
   "outputs": [],
   "source": [
    "i=60\n",
    "#out = model.predict(obs[i].reshape((1,168,168,3)))\n",
    "plt.figure()\n",
    "plt.subplot(1,2,1)\n",
    "plt.imshow(obs[i])\n",
    "plt.axis('off')\n",
    "plt.subplot(1,2,2)\n",
    "plt.imshow(out[i])\n",
    "plt.axis('off')\n",
    "plt.show()"
   ]
  },
  {
   "cell_type": "code",
   "execution_count": null,
   "metadata": {
    "ExecuteTime": {
     "end_time": "2021-01-08T13:17:10.390070Z",
     "start_time": "2021-01-08T13:17:09.598181Z"
    }
   },
   "outputs": [],
   "source": [
    "i=223\n",
    "plt.figure(figsize=(20,7))\n",
    "plt.subplot(1,3,1)\n",
    "plt.imshow(obs[i])\n",
    "plt.title('Input',fontsize=20)\n",
    "plt.axis('off')\n",
    "plt.subplot(1,3,2)\n",
    "plt.imshow(intermediate_output[0][i].reshape((8,32)))\n",
    "plt.title('Encoding',fontsize=20)\n",
    "plt.axis('off')\n",
    "plt.subplot(1,3,3)\n",
    "plt.imshow(intermediate_output[1][i])\n",
    "plt.title('Output',fontsize=20)\n",
    "plt.axis('off')\n",
    "plt.show()\n",
    "#plt.savefig(path+'autoencoder/Example1.png', bbox_inches='tight')"
   ]
  },
  {
   "cell_type": "code",
   "execution_count": null,
   "metadata": {
    "ExecuteTime": {
     "end_time": "2021-01-08T13:17:16.219488Z",
     "start_time": "2021-01-08T13:17:15.207187Z"
    }
   },
   "outputs": [],
   "source": [
    "i=705\n",
    "plt.figure(figsize=(20,7))\n",
    "plt.subplot(1,3,1)\n",
    "plt.imshow(obs[i])\n",
    "plt.title('Input',fontsize=20)\n",
    "plt.axis('off')\n",
    "plt.subplot(1,3,2)\n",
    "plt.imshow(intermediate_output[0][i].reshape((8,32)))\n",
    "plt.title('Encoding',fontsize=20)\n",
    "plt.axis('off')\n",
    "plt.subplot(1,3,3)\n",
    "plt.imshow(intermediate_output[1][i])\n",
    "plt.title('Output',fontsize=20)\n",
    "plt.axis('off')\n",
    "#plt.show()\n",
    "plt.savefig(path+'autoencoder/Example3.png', bbox_inches='tight')"
   ]
  }
 ],
 "metadata": {
  "hide_input": false,
  "kernelspec": {
   "display_name": "Python 3 (ipykernel)",
   "language": "python",
   "name": "python3"
  },
  "language_info": {
   "codemirror_mode": {
    "name": "ipython",
    "version": 3
   },
   "file_extension": ".py",
   "mimetype": "text/x-python",
   "name": "python",
   "nbconvert_exporter": "python",
   "pygments_lexer": "ipython3",
   "version": "3.9.6"
  },
  "toc": {
   "base_numbering": 1,
   "nav_menu": {},
   "number_sections": true,
   "sideBar": true,
   "skip_h1_title": false,
   "title_cell": "Table of Contents",
   "title_sidebar": "Contents",
   "toc_cell": false,
   "toc_position": {},
   "toc_section_display": true,
   "toc_window_display": false
  },
  "varInspector": {
   "cols": {
    "lenName": 16,
    "lenType": 16,
    "lenVar": 40
   },
   "kernels_config": {
    "python": {
     "delete_cmd_postfix": "",
     "delete_cmd_prefix": "del ",
     "library": "var_list.py",
     "varRefreshCmd": "print(var_dic_list())"
    },
    "r": {
     "delete_cmd_postfix": ") ",
     "delete_cmd_prefix": "rm(",
     "library": "var_list.r",
     "varRefreshCmd": "cat(var_dic_list()) "
    }
   },
   "types_to_exclude": [
    "module",
    "function",
    "builtin_function_or_method",
    "instance",
    "_Feature"
   ],
   "window_display": false
  }
 },
 "nbformat": 4,
 "nbformat_minor": 2
}
